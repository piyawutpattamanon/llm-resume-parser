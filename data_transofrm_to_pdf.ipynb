{
 "cells": [
  {
   "cell_type": "code",
   "execution_count": 1,
   "metadata": {},
   "outputs": [],
   "source": [
    "import json\n",
    "\n",
    "resumes = []\n",
    "with open('Entity Recognition in Resumes.jsonl') as f:\n",
    "    for line in f:\n",
    "        resume = json.loads(line)\n",
    "        resumes.append(resume)"
   ]
  },
  {
   "cell_type": "code",
   "execution_count": null,
   "metadata": {},
   "outputs": [],
   "source": [
    "for i in range(len(resumes)):\n",
    "    resume = resumes[i]\n",
    "\n",
    "\n",
    "    from reportlab.pdfgen import canvas\n",
    "    from reportlab.lib.pagesizes import letter\n",
    "    from reportlab.lib.units import inch\n",
    "    from reportlab.platypus import SimpleDocTemplate, Paragraph\n",
    "    from reportlab.lib.styles import getSampleStyleSheet\n",
    "\n",
    "    def render(text_data):\n",
    "        pdf_file = f\"./data/evaluation/pdf/resume_{i}.pdf\"\n",
    "        doc = SimpleDocTemplate(pdf_file, pagesize=letter)\n",
    "        \n",
    "        styles = getSampleStyleSheet()\n",
    "        style = styles[\"Normal\"]\n",
    "        \n",
    "        story = []\n",
    "        \n",
    "        for text in text_data:\n",
    "            paragraph = Paragraph(text, style)\n",
    "            paragraph.preserveWhiteSpace = True\n",
    "            story.append(paragraph)\n",
    "        \n",
    "        doc.build(story)\n",
    "\n",
    "    if __name__ == \"__main__\":\n",
    "        text_data = resume['content'].split(\"\\n\")\n",
    "        text_data = ['.' if text.strip() == '' else text for text in text_data]\n",
    "        for line in text_data:\n",
    "            print('line:', line)\n",
    "        render(text_data)"
   ]
  }
 ],
 "metadata": {
  "kernelspec": {
   "display_name": "Python 3",
   "language": "python",
   "name": "python3"
  },
  "language_info": {
   "codemirror_mode": {
    "name": "ipython",
    "version": 3
   },
   "file_extension": ".py",
   "mimetype": "text/x-python",
   "name": "python",
   "nbconvert_exporter": "python",
   "pygments_lexer": "ipython3",
   "version": "3.10.14"
  }
 },
 "nbformat": 4,
 "nbformat_minor": 2
}
